{
 "cells": [
  {
   "cell_type": "code",
   "execution_count": null,
   "metadata": {},
   "outputs": [],
   "source": [
    "import sys \n",
    "sys.path.append('..')\n",
    "from utils.paths import make_dirs, SEARCH_HASHTAGS_LIST, QUARTERS_DICT, POTATOES_CLEANED_DIR, FORBIDDEN_HASHTAGS_LIST, POTATOES_HASHTAGS_CLEAN, QUARTER_RESULTS, POTATOES_DIR, QUARTERS_ALL_POSTS, HASHTAGS_PER_USER_DIR, HASHTAG_FREQUENCY_DIR, CONNECTED_COMPONENTS_DIR, CONNECTED_COMPONENTS_PUBLIC_SPACES_DIR, HASHTAG_FREQUENCY_PUBLIC_SPACES_DIR, HASHTAGS_PER_USER_PUBLIC_SPACES_DIR\n",
    "from utils.utils import load_dataframes, load_dataframe, write_dict_to_csv, write_list_to_csv, write_df_to_csv\n",
    "import pandas as pd\n",
    "import os\n",
    "\n",
    "make_dirs()\n",
    "\n",
    "def checkRow(rowHashtags, hashtags):\n",
    "    if len(set.intersection(set(rowHashtags), set(hashtags))) > 0:\n",
    "        return True\n",
    "    else:\n",
    "        return False"
   ]
  },
  {
   "cell_type": "markdown",
   "metadata": {},
   "source": [
    "Count posts per quarter before cleaning"
   ]
  },
  {
   "cell_type": "code",
   "execution_count": null,
   "metadata": {},
   "outputs": [],
   "source": [
    "post_count_dict = {}\n",
    "\n",
    "dict = QUARTERS_DICT()\n",
    "for quarter in dict:\n",
    "    print('>> now processing', quarter)\n",
    "    df = dict[quarter]\n",
    "    post_count_dict[quarter] = len(df)\n",
    "write_dict_to_csv(post_count_dict, \"post_count\", POTATOES_DIR, ['quarter', 'post_count'])"
   ]
  },
  {
   "cell_type": "markdown",
   "metadata": {},
   "source": [
    "- merge different hashtags for same potato\n",
    "- clean hashtags to clean\n",
    "- remove forbidden hashtags"
   ]
  },
  {
   "cell_type": "code",
   "execution_count": null,
   "metadata": {},
   "outputs": [],
   "source": [
    "df_hashtags_clean = POTATOES_HASHTAGS_CLEAN()\n",
    "\n",
    "selected_columns = ['owner_id','shortcode','hashtags', 'caption', 'post_url', 'is_video', 'likes']\n",
    "\n",
    "df_post_counts = pd.DataFrame(columns=['quarter', 'post_count', 'post_count_cleaned'])\n",
    "\n",
    "forbidden_hashtags = set(FORBIDDEN_HASHTAGS_LIST())\n",
    "search_hashtags = SEARCH_HASHTAGS_LIST()\n",
    "\n",
    "\n",
    "for index, row in df_hashtags_clean.iterrows():\n",
    "    # merge files if different hashtags are used\n",
    "    print('>> now processing', row.POTATOES)\n",
    "    if len(row.HASHTAG)>0:\n",
    "        df = pd.DataFrame()\n",
    "        for hashtag in row.HASHTAG:\n",
    "            df_new = QUARTER_RESULTS(hashtag)\n",
    "            df_new_hashtags = df_new[selected_columns]\n",
    "            df = df.append(df_new_hashtags,ignore_index=True)\n",
    "    else:\n",
    "        df = QUARTER_RESULTS(row.POTATOES)\n",
    "        df =df[selected_columns]\n",
    "    \n",
    "    # clean irrelevant posts\n",
    "    post_count = len(df)\n",
    "    if (len(row.CLEAN)>0): # TODO: make separate row\n",
    "        # df[\"to_clean\"] = df.apply(lambda df_row: len(set.intersection(set(df_row.hashtags), set(row.CLEAN))), axis=1)\n",
    "        # df.drop(df[df['to_clean'] != 0].index, inplace = True)\n",
    "\n",
    "        mask = (df['hashtags'].apply(lambda x: checkRow(x, search_hashtags)))\n",
    "        df = df[mask]\n",
    "        \n",
    "    post_count_cleaned = len(df)\n",
    "    new_row = {'quarter': row.POTATOES, 'post_count': post_count, 'post_count_cleaned': post_count_cleaned}\n",
    "    df_post_counts = df_post_counts.append(new_row, ignore_index=True)\n",
    "\n",
    "    # clean forbidden hashtags\n",
    "    df['hashtags'] = df['hashtags'].apply(lambda x: sorted(set(x).difference(forbidden_hashtags)))\n",
    "\n",
    "    # write files\n",
    "    write_df_to_csv(df, row.POTATOES, POTATOES_CLEANED_DIR)\n",
    "    print(df_post_counts)\n",
    "    \n",
    "write_df_to_csv(df_post_counts, 'post_counts', POTATOES_DIR)"
   ]
  },
  {
   "cell_type": "markdown",
   "metadata": {},
   "source": [
    "- Posts per user\n",
    "- Frequency"
   ]
  },
  {
   "cell_type": "code",
   "execution_count": null,
   "metadata": {},
   "outputs": [],
   "source": [
    "# see network"
   ]
  }
 ],
 "metadata": {
  "kernelspec": {
   "display_name": "Python 3.8.5 64-bit",
   "language": "python",
   "name": "python3"
  },
  "language_info": {
   "codemirror_mode": {
    "name": "ipython",
    "version": 3
   },
   "file_extension": ".py",
   "mimetype": "text/x-python",
   "name": "python",
   "nbconvert_exporter": "python",
   "pygments_lexer": "ipython3",
   "version": "3.8.5"
  },
  "orig_nbformat": 4,
  "vscode": {
   "interpreter": {
    "hash": "aee8b7b246df8f9039afb4144a1f6fd8d2ca17a180786b69acc140d282b71a49"
   }
  }
 },
 "nbformat": 4,
 "nbformat_minor": 2
}
