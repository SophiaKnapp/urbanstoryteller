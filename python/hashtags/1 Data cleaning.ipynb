{
 "cells": [
  {
   "cell_type": "code",
   "execution_count": 2,
   "metadata": {},
   "outputs": [],
   "source": [
    "import sys \n",
    "sys.path.append('..')\n",
    "from utils.paths import make_dirs, CLEANED_DIR, POTATOES_HASHTAGS_CLEAN, MEANINGLESS_HASHTAGS_LIST, SEARCH_HASHTAGS_LIST, QUARTER_RESULTS, POTATOES_CLEANED_DIR\n",
    "from utils.utils import load_dataframes, load_dataframe, write_dict_to_csv, write_list_to_csv, write_df_to_csv\n",
    "import pandas as pd\n",
    "import os\n",
    "\n",
    "make_dirs()\n",
    "\n",
    "def listsOverlap(rowHashtags, hashtags):\n",
    "    if len(set.intersection(set(rowHashtags), set(hashtags))) > 0:\n",
    "        return True\n",
    "    else:\n",
    "        return False"
   ]
  },
  {
   "cell_type": "markdown",
   "metadata": {},
   "source": [
    "### Clean downloaded posts\n",
    "- merge data from different hashtags (if used) for the same quarter\n",
    "- remove posts that are not related to Munich for quarters with ambiguous names\n",
    "- remove \"meaningless\" hashtags\n",
    "- remove irrelevant columns"
   ]
  },
  {
   "cell_type": "code",
   "execution_count": 3,
   "metadata": {},
   "outputs": [
    {
     "name": "stdout",
     "output_type": "stream",
     "text": [
      ">> now processing allach\n",
      ">> now processing altperlach\n",
      ">> now processing altstadt\n",
      ">> now processing amhart\n",
      ">> now processing arabellapark\n",
      ">> now processing au\n",
      ">> now processing aubing\n",
      ">> now processing bergamlaim\n",
      ">> now processing bogenhausen\n",
      ">> now processing borstei\n",
      ">> now processing daglfing\n",
      ">> now processing denning\n",
      ">> now processing fasanerie\n",
      ">> now processing fasangarten\n",
      ">> now processing feldmoching\n",
      ">> now processing forstenried\n",
      ">> now processing freiham\n",
      ">> now processing freimann\n",
      ">> now processing fröttmaning\n",
      ">> now processing fürstenried\n",
      ">> now processing giesing\n",
      ">> now processing hadern\n",
      ">> now processing haidhausen\n",
      ">> now processing harlaching\n",
      ">> now processing harras\n",
      ">> now processing harthof\n",
      ">> now processing hasenbergl\n",
      ">> now processing hellabrunn\n",
      ">> now processing herzogpark\n",
      ">> now processing isarvorstadt\n",
      ">> now processing johanneskirchen\n",
      ">> now processing kieferngarten\n",
      ">> now processing kirchtrudering\n",
      ">> now processing laim\n",
      ">> now processing lehel\n",
      ">> now processing lerchenau\n",
      ">> now processing lochhausen\n",
      ">> now processing ludwigsvorstadt\n",
      ">> now processing maxvorstadt\n"
     ]
    },
    {
     "name": "stderr",
     "output_type": "stream",
     "text": [
      "/usr/local/lib/python3.8/site-packages/IPython/core/interactiveshell.py:3444: DtypeWarning: Columns (0,4,5,7) have mixed types.Specify dtype option on import or set low_memory=False.\n",
      "  exec(code_obj, self.user_global_ns, self.user_ns)\n"
     ]
    },
    {
     "name": "stdout",
     "output_type": "stream",
     "text": [
      ">> now processing messestadtriem\n",
      ">> now processing milbertshofen\n",
      ">> now processing mittersendling\n",
      ">> now processing moosach\n",
      ">> now processing neuaubing\n",
      ">> now processing neubiberg\n",
      ">> now processing neuhausen\n",
      ">> now processing neuperlach\n",
      ">> now processing nymphenburg\n",
      ">> now processing oberföhring\n",
      ">> now processing obermenzing\n",
      ">> now processing obersendling\n",
      ">> now processing olympiadorf\n",
      ">> now processing pasing\n",
      ">> now processing ramersdorf\n",
      ">> now processing riem\n",
      ">> now processing schwabing\n",
      ">> now processing sendling\n",
      ">> now processing solln\n",
      ">> now processing studentenstadt\n",
      ">> now processing thalkirchen\n",
      ">> now processing trudering\n",
      ">> now processing untermenzing\n",
      ">> now processing waldtrudering\n",
      ">> now processing werksviertel\n",
      ">> now processing westend\n",
      ">> now processing westkreuz\n",
      ">> now processing zamdorf\n"
     ]
    }
   ],
   "source": [
    "df_hashtags_clean = POTATOES_HASHTAGS_CLEAN()\n",
    "selected_columns = ['owner_id','shortcode','hashtags', 'post_url', 'is_video', 'likes']\n",
    "df_post_counts = pd.DataFrame(columns=['quarter', 'post_count', 'post_count_cleaned'])\n",
    "\n",
    "meaningless_hashtags = set(MEANINGLESS_HASHTAGS_LIST())\n",
    "search_hashtags = SEARCH_HASHTAGS_LIST()\n",
    "\n",
    "for index, row in df_hashtags_clean.iterrows():\n",
    "    # merge data from different hashtags (if used) for the same quarter\n",
    "    print('>> now processing', row.POTATOES)\n",
    "    if len(row.HASHTAG)>0:\n",
    "        df = pd.DataFrame()\n",
    "        for hashtag in row.HASHTAG:\n",
    "            df_new = QUARTER_RESULTS(hashtag)\n",
    "            df_new_hashtags = df_new[selected_columns]\n",
    "            df = df.append(df_new_hashtags,ignore_index=True)\n",
    "    else:\n",
    "        df = QUARTER_RESULTS(row.POTATOES)\n",
    "        df =df[selected_columns]\n",
    "    \n",
    "    # Remove posts that are not related to Munich for quarters with ambiguous names\n",
    "    post_count = len(df)\n",
    "    if (len(row.CLEAN)>0):\n",
    "        mask = (df['hashtags'].apply(lambda x: listsOverlap(x, search_hashtags)))\n",
    "        df = df[mask]\n",
    "        \n",
    "    post_count_cleaned = len(df)\n",
    "    new_row = {'quarter': row.POTATOES, 'post_count': post_count, 'post_count_cleaned': post_count_cleaned}\n",
    "    df_post_counts = df_post_counts.append(new_row, ignore_index=True)\n",
    "\n",
    "    # remove \"meaningless\" hashtags\n",
    "    df['hashtags'] = df['hashtags'].apply(lambda x: sorted(set(x).difference(meaningless_hashtags)))\n",
    "\n",
    "    # write files\n",
    "    write_df_to_csv(df, row.POTATOES, POTATOES_CLEANED_DIR)\n",
    "    \n",
    "write_df_to_csv(df_post_counts, 'post_counts', CLEANED_DIR)"
   ]
  }
 ],
 "metadata": {
  "kernelspec": {
   "display_name": "Python 3.8.5 64-bit",
   "language": "python",
   "name": "python3"
  },
  "language_info": {
   "codemirror_mode": {
    "name": "ipython",
    "version": 3
   },
   "file_extension": ".py",
   "mimetype": "text/x-python",
   "name": "python",
   "nbconvert_exporter": "python",
   "pygments_lexer": "ipython3",
   "version": "3.8.5"
  },
  "orig_nbformat": 4,
  "vscode": {
   "interpreter": {
    "hash": "aee8b7b246df8f9039afb4144a1f6fd8d2ca17a180786b69acc140d282b71a49"
   }
  }
 },
 "nbformat": 4,
 "nbformat_minor": 2
}
